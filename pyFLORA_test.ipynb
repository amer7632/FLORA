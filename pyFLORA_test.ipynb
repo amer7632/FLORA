{
 "cells": [
  {
   "cell_type": "code",
   "execution_count": 5,
   "id": "be75a9f7",
   "metadata": {},
   "outputs": [],
   "source": [
    "import numpy as np\n",
    "import scipy.io as sp\n",
    "from scipy.stats import norm\n",
    "import matplotlib.pyplot as plt    "
   ]
  },
  {
   "cell_type": "code",
   "execution_count": 13,
   "id": "5098b30f",
   "metadata": {},
   "outputs": [],
   "source": [
    "file_to_open =f'./data/paleo2021_data1.mat'\n",
    "flora_interpstack = sp.loadmat(file_to_open)\n",
    "flora_lat = flora_interpstack['lat']\n",
    "flora_lon = flora_interpstack['lon']\n",
    "flora_times = flora_interpstack['time_data'].reshape(flora_interpstack['time_data'].shape[1],)\n",
    "flora_co2_data = flora_interpstack['CO2_data'].reshape(flora_interpstack['CO2_data'].shape[1],)\n",
    "flora_land_data = flora_interpstack['land_data'].astype(float)\n",
    "flora_temp_data = flora_interpstack['temp_data'].astype(float)\n",
    "flora_runoff_data = flora_interpstack['runoff_data'].astype(float)"
   ]
  },
  {
   "cell_type": "code",
   "execution_count": 171,
   "id": "99a3e12c",
   "metadata": {},
   "outputs": [],
   "source": [
    "#CO2 and O2 levels\n",
    "# these indices are from matlab, not python\n",
    "co2_level_matlab = np.asarray([21, 19, 19, 18, 17, 16, 15, 12, 11, 12, 12, 14, 16, 16, 16, 13, 14, 11, 12, 11, 9, 8])\n",
    "# minus 1 for python\n",
    "co2_level_python = co2_level_matlab - 1\n",
    "co2_m_stdev = np.asarray([20, 18, 18, 17, 16, 12, 10, 6, 3, 8, 7, 10, 11, 12, 11, 10, 10, 4, 10, 6, 4, 4])\n",
    "co2_p_stdev = np.asarray([22, 20, 20, 19, 18, 19, 17, 14, 13, 14, 14, 16, 18, 18, 17, 16, 17, 14, 14, 13, 11, 11]) \n",
    "o2 = np.asarray([ 1.9, 5.14, 3.74, 5.05, 14.94, 16.76, 16.22, 24.76, 25.52, 27.25, 31.05, 30.77, 32.38, 28.6, 25.13, 25.86, 26.65, 27.69, 25.12, 21.41, 21.57, 20.72])\n",
    "\n",
    "# Number of loops #\n",
    "nsteps = 200\n",
    "# Longitude and latitude #\n",
    "x_lon = 48\n",
    "y_lat = 40\n",
    "\n",
    "# timesteps in 1 year\n",
    "timestep = 1\n",
    "\n",
    "# Reservoirs\n",
    "C_leaf_tem = np.full((y_lat, x_lon, nsteps+1), np.nan)\n",
    "C_leaf_bor = np.full((y_lat, x_lon, nsteps+1), np.nan)\n",
    "C_leaf_tro = np.full((y_lat, x_lon, nsteps+1), np.nan)\n",
    "R_leaf_tem = np.full((y_lat, x_lon, nsteps), np.nan)\n",
    "R_leaf_bor = np.full((y_lat, x_lon, nsteps), np.nan)\n",
    "R_leaf_tro = np.full((y_lat, x_lon, nsteps), np.nan)\n",
    "NPP_tem = np.full((y_lat, x_lon, nsteps), np.nan)\n",
    "NPP_bor = np.full((y_lat, x_lon, nsteps), np.nan)\n",
    "NPP_tro = np.full((y_lat, x_lon, nsteps), np.nan)\n",
    "biomass_tem = np.full((y_lat, x_lon, nsteps+1), np.nan)\n",
    "biomass_bor = np.full((y_lat, x_lon, nsteps+1), np.nan)\n",
    "biomass_tro = np.full((y_lat, x_lon, nsteps+1), np.nan)\n",
    "\n",
    "# final outputs\n",
    "final_biomass_tem = np.full((y_lat, x_lon, len(flora_times)), np.nan)\n",
    "final_biomass_bor = np.full((y_lat, x_lon, len(flora_times)), np.nan)\n",
    "final_biomass_tro = np.full((y_lat, x_lon, len(flora_times)), np.nan)\n",
    "final_NPP_tem = np.full((y_lat, x_lon, len(flora_times)), np.nan)\n",
    "final_NPP_bor = np.full((y_lat, x_lon, len(flora_times)), np.nan)\n",
    "final_NPP_tro = np.full((y_lat, x_lon, len(flora_times)), np.nan)\n",
    "temp_end = np.full((y_lat, x_lon, len(flora_times)), np.nan)\n",
    "runoff_end = np.full((y_lat, x_lon, len(flora_times)), np.nan)\n",
    "\n",
    "### some parameters ###\n",
    "# Q10 temperature dependence\n",
    "t25 = 2600\n",
    "q_10t = 0.57\n",
    "\n",
    "# Intracellular partial pressure \n",
    "v = 0.7\n",
    "kc25 = 30\n",
    "ko25 = 3e4\n",
    "q_10c = 2.1\n",
    "q_10o = 1.2\n",
    "s = 0.015\n",
    "alpha = 0.08\n",
    "theta = 0.7\n",
    "lr_max = 0.75\n",
    "\n",
    "# Leaf c:n ratio\n",
    "CN_leaf = 29\n",
    "\n",
    "# Tissue respiration rate at 10 degree C\n",
    "r_tem = 0.055 * 365 # 0.066 for some PFTs; gC/gN/d -> gC/gN/year\n",
    "r_bor = 0.066 * 365\n",
    "r_tro = 0.011 * 365\n",
    "\n",
    "# Growth respiraition\n",
    "R_growth = 0.25\n",
    "\n",
    "# Leaf longevity; ranges from 0.5 - 1 depending on type of plant\n",
    "life_leaf_tem = 0.75 \n",
    "life_leaf_bor = 0.75\n",
    "life_leaf_tro = 1\n",
    "\n",
    "ins_present = 150 + 250 * np.outer(norm.pdf(flora_lat, 0, 40) / norm.pdf(0, 0, 40), np.ones(x_lon))\n",
    "# plot?\n",
    "#plt.imshow(ins_present)"
   ]
  },
  {
   "cell_type": "code",
   "execution_count": 172,
   "id": "a7c29508",
   "metadata": {},
   "outputs": [
    {
     "name": "stdout",
     "output_type": "stream",
     "text": [
      "0 -540.0\n",
      "1 -500.0\n",
      "2 -470.0\n",
      "3 -450.0\n",
      "4 -430.0\n",
      "5 -400.0\n",
      "6 -370.0\n",
      "7 -340.0\n",
      "8 -300.0\n",
      "9 -280.0\n",
      "10 -260.0\n",
      "11 -245.0\n",
      "12 -220.0\n",
      "13 -200.0\n",
      "14 -180.0\n",
      "15 -145.0\n",
      "16 -90.0\n",
      "17 -70.0\n",
      "18 -52.0\n",
      "19 -30.0\n",
      "20 -15.0\n",
      "21 -0.0\n"
     ]
    }
   ],
   "source": [
    "for flora_time_ind, flora_time in enumerate(flora_times):\n",
    "    print(flora_time_ind, flora_time)\n",
    "\n",
    "    # we will count forward in time based on our climate data\n",
    "    # get index of co2\n",
    "    co2_ind = co2_level[flora_time_ind]\n",
    "    co2_ppm = flora_co2_data[co2_ind] # ppm = micromol\n",
    "\n",
    "    # land\n",
    "    land = flora_land_data[:, :, flora_time_ind]\n",
    "    land[land == 0] = np.nan\n",
    "\n",
    "    # temperature, masked by land\n",
    "    temp = flora_temp_data[:,:, co2_ind, flora_time_ind] * land\n",
    "\n",
    "    # runoff, masked by land\n",
    "    runoff = flora_runoff_data[:,:, co2_ind, flora_time_ind] * land\n",
    "\n",
    "    # mask out where ice forms?\n",
    "    temp[temp < -10] = np.nan\n",
    "    \n",
    "\n",
    "    #Ambient partial pressure\n",
    "    po2 = o2[flora_time_ind] * 1000\n",
    "    pco2 = co2_ppm\n",
    "\n",
    "    tf = t25*(q_10t**((temp - 25)*0.1))\n",
    "    tstar = po2/(2*tf )\n",
    "    pi = v * pco2\n",
    "    kc = kc25*(q_10c**((temp - 25)*0.1))\n",
    "    ko = ko25*(q_10o**((temp - 25)*0.1))\n",
    "    c2 = (pi - tstar)/(pi + kc*(1 + (po2/ko)))\n",
    "\n",
    "    # make ftemps for temperate, boreal and tropical regions\n",
    "    ftemp_tem = norm.pdf(temp, loc=15, scale=20)\n",
    "    ftemp_bor = norm.pdf(temp, loc=0, scale=20)\n",
    "    ftemp_tro = norm.pdf(temp, loc=27, scale=7)\n",
    "    c1_bor = alpha*ftemp_bor**((pi - tstar)/(pi + 2*tstar)) \n",
    "    c1_tem = alpha*ftemp_tem**((pi - tstar)/(pi + 2*tstar)) \n",
    "    c1_tro = alpha*ftemp_tro**((pi - tstar)/(pi + 2*tstar))\n",
    "\n",
    "    sigma = (1 - ((c2 - s)/(c2 - theta*s)))**0.5\n",
    "\n",
    "    #Change in insolation overtime\n",
    "    ins = ins_present - (ins_present*4.6/100*(abs(flora_times[flora_time_ind])/570))\n",
    "    \n",
    "    # Maintenance respiration # \n",
    "    # Arrhenius equation; temperature function for respiration\n",
    "    g_T = np.exp(308.56*((1/56.02) - (1/(temp + 46.02))))\n",
    "\n",
    "    ### Water presence ###\n",
    "\n",
    "    # converting actual runoff into a sigmoidal curve; water presence ranked\n",
    "    # from 0-1\n",
    "    # test_water = runoff_re ; \n",
    "    # test_water(test_water == 0 | isnan(test_water)) = NaN ; \n",
    "    # test_water = circshift( test_water, -6 ) ; \n",
    "    water_stress = 1 - (1/(1 + np.exp(0.005*(runoff - 450))))\n",
    "\n",
    "    ### PHOTOSYNTHESIS in gC/ m^2/ year ###\n",
    "    photosynth_tem = 10*365*ins*(c1_tem/c2)*(c2 - (2*theta - 1)*s - 2*(c2 - theta*s)*sigma)*water_stress\n",
    "    photosynth_bor = 10*365*ins*(c1_bor/c2)*(c2 - (2*theta - 1)*s - 2*(c2 - theta*s)*sigma)*water_stress\n",
    "    photosynth_tro = 10*365*ins*(c1_tro/c2)*(c2 - (2*theta - 1)*s - 2*(c2 - theta*s)*sigma)*water_stress\n",
    "\n",
    "    ### CARBON IN LEAF ###\n",
    "    # 0 for initial state\n",
    "    C_leaf_tem[:,:,0] = lr_max*photosynth_tem\n",
    "    C_leaf_bor[:,:,0] = lr_max*photosynth_bor\n",
    "    C_leaf_tro[:,:,0] = lr_max*photosynth_tro\n",
    "    # gC/ m^2/ year\n",
    "\n",
    "    ### BIOMASS ###\n",
    "    biomass_tem[:,:,0] = 2.5e4*land\n",
    "    biomass_tem[biomass_tem == 0] = np.nan\n",
    "\n",
    "    biomass_bor[:,:,0] = 2.5e4*land\n",
    "    biomass_bor[biomass_bor == 0] = np.nan\n",
    "    biomass_tro[:,:,0] = 2.5e4*land\n",
    "    biomass_tro[biomass_tro == 0] = np.nan\n",
    "    # gC/m^2/year    \n",
    "    \n",
    "    for biomass_ind, biomass_step in enumerate(np.arange(nsteps)):\n",
    "\n",
    "        ### Leaf respiration ###\n",
    "        R_leaf_bor[:,:,biomass_ind] = r_bor*(C_leaf_bor[:,:,biomass_ind]/CN_leaf)*g_T\n",
    "        R_leaf_bor[R_leaf_bor < 0] = 0\n",
    "        R_leaf_tem[:,:,biomass_ind] = r_tem*(C_leaf_tem[:,:,biomass_ind]/CN_leaf )*g_T\n",
    "        R_leaf_tem[R_leaf_tem < 0] = 0 \n",
    "        R_leaf_tro[:,:,biomass_ind] = r_tro * ( C_leaf_tro[:,:,biomass_ind]/CN_leaf)*g_T\n",
    "        R_leaf_tro[R_leaf_tro < 0] = 0\n",
    "\n",
    "\n",
    "        ### NPP in gC/m2/year ###\n",
    "        NPP_bor[:,:,biomass_ind] = (1 - R_growth)*(photosynth_bor - R_leaf_bor[:,:,biomass_ind])\n",
    "        NPP_tem[:,:,biomass_ind] = (1 - R_growth)*(photosynth_tem - R_leaf_tem[:,:,biomass_ind])\n",
    "        NPP_tro[:,:,biomass_ind] = (1 - R_growth)*(photosynth_tro - R_leaf_tro[:,:,biomass_ind])\n",
    "\n",
    "        ### Carbon in leaf allocation ###\n",
    "        C_leaf_bor[:,:,biomass_ind+1] = (C_leaf_bor[:,:,biomass_ind]*(1 - life_leaf_bor)) + (lr_max*NPP_bor[:,:,biomass_ind])\n",
    "        C_leaf_tem[:,:,biomass_ind+1] = (C_leaf_tem[:,:,biomass_ind]*(1 - life_leaf_tem)) + (lr_max*NPP_tem[:,:,biomass_ind])\n",
    "        C_leaf_tro[:,:,biomass_ind+1] = (C_leaf_tro[:,:,biomass_ind]*(1 - life_leaf_tro)) + (lr_max*NPP_tro[:,:,biomass_ind])\n",
    "\n",
    "        ### Biomass ###\n",
    "        biomass_bor[:,:,biomass_ind+1] = biomass_bor[:,:,biomass_ind] + (C_leaf_bor[:,:,biomass_ind] - 0.1*biomass_bor[:,:,biomass_ind])*timestep\n",
    "        biomass_tem[:,:,biomass_ind+1] = biomass_tem[:,:,biomass_ind] + (C_leaf_tem[:,:,biomass_ind] - 0.1*biomass_tem[:,:,biomass_ind])*timestep \n",
    "        biomass_tro[:,:,biomass_ind+1] = biomass_tro[:,:,biomass_ind] + (C_leaf_tro[:,:,biomass_ind] - 0.1*biomass_tro[:,:,biomass_ind])*timestep \n",
    "\n",
    "    final_biomass_tem[:,:,flora_time_ind] = biomass_tem[:,:,-1]\n",
    "    final_biomass_bor[:,:,flora_time_ind] = biomass_bor[:,:,-1]\n",
    "    final_biomass_tro[:,:,flora_time_ind] = biomass_tro[:,:,-1]\n",
    "    \n",
    "    final_NPP_tem[:,:,flora_time_ind] = NPP_tem[:,:,-1]\n",
    "    final_NPP_bor[:,:,flora_time_ind] = NPP_bor[:,:,-1]\n",
    "    final_NPP_tro[:,:,flora_time_ind] = NPP_tro[:,:,-1]\n",
    "    \n",
    "    #Saving temp info \n",
    "    temp_end[:,:,flora_time_ind] = temp\n",
    "    runoff_end[:,:,flora_time_ind] = runoff"
   ]
  },
  {
   "cell_type": "code",
   "execution_count": 187,
   "id": "bd51065a",
   "metadata": {},
   "outputs": [
    {
     "data": {
      "text/plain": [
       "(40, 48, 200)"
      ]
     },
     "execution_count": 187,
     "metadata": {},
     "output_type": "execute_result"
    }
   ],
   "source": [
    "NPP_bor.shape"
   ]
  },
  {
   "cell_type": "code",
   "execution_count": null,
   "id": "7138d7e9",
   "metadata": {},
   "outputs": [],
   "source": []
  },
  {
   "cell_type": "code",
   "execution_count": 177,
   "id": "0ecb9135",
   "metadata": {},
   "outputs": [],
   "source": [
    "import numpy as np\n",
    "\n",
    "# Assuming all final_biomass_* arrays are numpy arrays with shape (x_lon, y_lat, len(flora_times))\n",
    "final_biomass = np.empty_like(final_biomass_tem)\n",
    "biome = np.empty_like(final_biomass_tem, dtype=int)\n",
    "final_NPP = np.empty_like(final_biomass_tem, dtype=float)\n",
    "\n",
    "for flora_time_ind, flora_time in enumerate(flora_times):\n",
    "    for lon_ind in range(x_lon):\n",
    "        for lat_ind in range(y_lat):\n",
    "            # Maximum biomass among the three types\n",
    "            final_biomass[lat_ind, lon_ind, flora_time_ind] = max(\n",
    "                final_biomass_tem[lat_ind, lon_ind, flora_time_ind],\n",
    "                final_biomass_bor[lat_ind, lon_ind, flora_time_ind],\n",
    "                final_biomass_tro[lat_ind, lon_ind, flora_time_ind]\n",
    "            )\n",
    "\n",
    "\n",
    "            # Assign biome and NPP based on which biomass is max\n",
    "            if final_biomass[lat_ind, lon_ind, flora_time_ind] == final_biomass_tem[lat_ind, lon_ind, flora_time_ind]:\n",
    "                biome[lat_ind, lon_ind, flora_time_ind] = 1\n",
    "                final_NPP[i, lon_ind, flora_time_ind] = final_NPP_tem[lat_ind, lon_ind, flora_time_ind]\n",
    "            elif final_biomass[lat_ind, lon_ind, flora_time_ind] == final_biomass_bor[lat_ind, lon_ind, flora_time_ind]:\n",
    "                biome[lat_ind, lon_ind, flora_time_ind] = 2\n",
    "                final_NPP[lat_ind, lon_ind, flora_time_ind] = final_NPP_bor[lat_ind, lon_ind, flora_time_ind]\n",
    "            elif final_biomass[lat_ind, lon_ind, flora_time_ind] == final_biomass_tro[lat_ind, lon_ind, flora_time_ind]:\n",
    "                biome[lat_ind, lon_ind, flora_time_ind] = 3\n",
    "                final_NPP[lat_ind, lon_ind, flora_time_ind] = final_NPP_tro[lat_ind, lon_ind, flora_time_ind]\n",
    "            else:\n",
    "                biome[lat_ind, lon_ind, flora_time_ind] = 4\n",
    "                final_NPP[lat_ind, lon_ind, flora_time_ind] = np.nan"
   ]
  },
  {
   "cell_type": "code",
   "execution_count": 188,
   "id": "7241d976",
   "metadata": {},
   "outputs": [
    {
     "data": {
      "text/plain": [
       "<matplotlib.colorbar.Colorbar at 0x16de0b4d0>"
      ]
     },
     "execution_count": 188,
     "metadata": {},
     "output_type": "execute_result"
    },
    {
     "data": {
      "image/png": "[encoded data removed]",
      "text/plain": [
       "<Figure size 640x480 with 2 Axes>"
      ]
     },
     "metadata": {},
     "output_type": "display_data"
    }
   ],
   "source": [
    "plt.imshow(biome[:,:,-1])\n",
    "plt.colorbar()"
   ]
  },
  {
   "cell_type": "code",
   "execution_count": 95,
   "id": "96d85be0",
   "metadata": {},
   "outputs": [
    {
     "data": {
      "text/plain": [
       "np.float64(145627.78703505915)"
      ]
     },
     "execution_count": 95,
     "metadata": {},
     "output_type": "execute_result"
    }
   ],
   "source": [
    "np.nansum(R_leaf_tem[:,:,0])"
   ]
  },
  {
   "cell_type": "code",
   "execution_count": 83,
   "id": "67363a0e",
   "metadata": {},
   "outputs": [
    {
     "data": {
      "text/plain": [
       "<matplotlib.colorbar.Colorbar at 0x16abf0890>"
      ]
     },
     "execution_count": 83,
     "metadata": {},
     "output_type": "execute_result"
    },
    {
     "data": {
      "image/png": "[encoded data removed]",
      "text/plain": [
       "<Figure size 640x480 with 2 Axes>"
      ]
     },
     "metadata": {},
     "output_type": "display_data"
    }
   ],
   "source": [
    "plt.imshow(biomass_tro[:,:,0], origin='lower')\n",
    "plt.colorbar()"
   ]
  },
  {
   "cell_type": "code",
   "execution_count": 11,
   "id": "e5bc1431",
   "metadata": {},
   "outputs": [
    {
     "ename": "NameError",
     "evalue": "name 'flora_land' is not defined",
     "output_type": "error",
     "traceback": [
      "\u001b[0;31m---------------------------------------------------------------------------\u001b[0m",
      "\u001b[0;31mNameError\u001b[0m                                 Traceback (most recent call last)",
      "Cell \u001b[0;32mIn[11], line 1\u001b[0m\n\u001b[0;32m----> 1\u001b[0m \u001b[43mflora_land\u001b[49m\n",
      "\u001b[0;31mNameError\u001b[0m: name 'flora_land' is not defined"
     ]
    }
   ],
   "source": [
    "flora_land"
   ]
  },
  {
   "cell_type": "code",
   "execution_count": null,
   "id": "2975158d",
   "metadata": {},
   "outputs": [],
   "source": []
  }
 ],
 "metadata": {
  "kernelspec": {
   "display_name": "pySCION_env",
   "language": "python",
   "name": "python3"
  },
  "language_info": {
   "codemirror_mode": {
    "name": "ipython",
    "version": 3
   },
   "file_extension": ".py",
   "mimetype": "text/x-python",
   "name": "python",
   "nbconvert_exporter": "python",
   "pygments_lexer": "ipython3",
   "version": "3.12.6"
  }
 },
 "nbformat": 4,
 "nbformat_minor": 5
}
